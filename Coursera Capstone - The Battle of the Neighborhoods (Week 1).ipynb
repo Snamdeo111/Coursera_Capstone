{
 "cells": [
  {
   "cell_type": "markdown",
   "metadata": {},
   "source": [
    "# Coursera Capstone - The Battle of the Neighborhoods (Week 1)"
   ]
  },
  {
   "cell_type": "markdown",
   "metadata": {},
   "source": [
    "## Table of Contents\n",
    "* [Introduction / Business Problem](#Introduction)\n",
    "* [DataSet Description](#Description) :\n",
    "    * [Reqiurements](#Reqiurements)\n",
    "    * [Processing](#Processing)\n",
    "    * [Vizualise](#Vizualise)"
   ]
  },
  {
   "cell_type": "markdown",
   "metadata": {},
   "source": [
    "### Introduction / Business Problem  <a name=\"Introduction\"></a>"
   ]
  },
  {
   "cell_type": "markdown",
   "metadata": {},
   "source": [
    "A Startup XYZ in India wants to set up Cafes and Pizzeria in top 10 Major Cities in India. The Startup wants to know the Specific Loaction in the Major Cities of India where setting up of Cafes or Pizzeria in those cities would profit it.This would also help in getting to know the taste of the people living in those cities. The Startup **aims at opening Cafe or Pizzeria** depending upon the **availability of the Pizzeria or Cafe at that place**, is **no Cafes or Pizzeria in vicinty**, is **closer to the city center**.\n",
    "\n",
    "In Summation of the Problem set we need:\n",
    "1. Availability of the Cafe or Pizzeria \n",
    "2. No Cafes or Pizzeria in vicinty\n",
    "3. Should be Closer to the City Center\n",
    "\n",
    "If we can figure out the above problems then, it would not also help the Startup but also help other startups that require necessary information about the types of restaurants that would be needed so as to introduce new taste to the people and would also help in knowing the specific taste of the people in those major cities. This information would also help businesses that are running already to expand their food options in either the same city in different vicinty or in some other cities. \n",
    "\n",
    "Top 10 Major Cities in India by Population are:\n",
    "1.  **Mumbai (Maharashtra)**\n",
    "2.\t**Delhi (Delhi)**\n",
    "3.\t**Bangalore (Karnataka)**\n",
    "4.\t**Hyderabad (Telangana)**\n",
    "5.\t**Ahmedabad (Gujarat)**\n",
    "6.\t**Chennai (Tamil Nadu)**\n",
    "7.\t**Kolkata (West Bengal)**\n",
    "8.\t**Surat (Gujarat)**\n",
    "9.\t**Pune (Maharashtra)**\n",
    "10.\t**Jaipur (Rajasthan)**"
   ]
  },
  {
   "cell_type": "markdown",
   "metadata": {},
   "source": [
    "### DataSet Description <a name=\"Description\"></a>"
   ]
  },
  {
   "cell_type": "markdown",
   "metadata": {},
   "source": [
    "#### Reqiurements"
   ]
  },
  {
   "cell_type": "markdown",
   "metadata": {},
   "source": [
    "The Raw Data Required for the Problem sets are :\n",
    "\n",
    "1. Area Wise Postal Code of India : https://data.gov.in/sites/default/files/all_india_PO_list_without_APS_offices_ver2.csv\n",
    "2. Latitudes and Longitudes of the Cities according to Postal Codes : http://download.geonames.org/export/zip/IN.zip"
   ]
  },
  {
   "cell_type": "markdown",
   "metadata": {},
   "source": [
    "#### Processing"
   ]
  },
  {
   "cell_type": "markdown",
   "metadata": {},
   "source": [
    "The Raw Data needs to be processed on so as to generate a meaningful dataset that will help us in out in our problem set.\n",
    "\n",
    "We Will do the following necessary operations:\n",
    "* Generating the DataFrames on both the DataSets :\n",
    "    * Extracting the information from csv where major cities are there\n",
    "    * Extracting the information from zip where major cities are there\n",
    "    * We can also use pgeocode library instead of the zip\n",
    "* Combinig both the DataSets so as to get the preffered DataSet\n",
    "* Mapping the data set according to the latitudes and longitudes of the major cities\n",
    "* Getting the necessary restaurants in the cities according to categories using foursquare api \n",
    "* Exploring the Cities based on the categories and latitude and longitude"
   ]
  },
  {
   "cell_type": "markdown",
   "metadata": {},
   "source": [
    "#### Vizualise"
   ]
  },
  {
   "cell_type": "markdown",
   "metadata": {},
   "source": [
    "We will vizualise the data sets using foursquare api and vizualization libraries along with dealing with the preffered places in the cities that are needed for establishment of the restaurants demanded by the startup."
   ]
  },
  {
   "cell_type": "code",
   "execution_count": null,
   "metadata": {},
   "outputs": [],
   "source": []
  }
 ],
 "metadata": {
  "kernelspec": {
   "display_name": "Python 3",
   "language": "python",
   "name": "python3"
  },
  "language_info": {
   "codemirror_mode": {
    "name": "ipython",
    "version": 3
   },
   "file_extension": ".py",
   "mimetype": "text/x-python",
   "name": "python",
   "nbconvert_exporter": "python",
   "pygments_lexer": "ipython3",
   "version": "3.6.8"
  }
 },
 "nbformat": 4,
 "nbformat_minor": 2
}
